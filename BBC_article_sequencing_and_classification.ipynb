{
 "cells": [
  {
   "cell_type": "code",
   "execution_count": 86,
   "metadata": {},
   "outputs": [],
   "source": [
    "import csv\n",
    "import numpy as np\n",
    "import tensorflow as tf\n",
    "import matplotlib.pyplot as plt\n",
    "from tensorflow.keras.preprocessing.text import Tokenizer\n",
    "from tensorflow.keras.preprocessing.sequence import pad_sequences"
   ]
  },
  {
   "cell_type": "code",
   "execution_count": 2,
   "metadata": {},
   "outputs": [],
   "source": [
    "stopwords =  [ \"a\", \"about\", \"above\", \"after\", \"again\", \"against\", \"all\", \"am\", \"an\", \"and\", \"any\", \"are\", \"as\", \"at\", \"be\", \n",
    "              \"because\", \"been\", \"before\", \"being\", \"below\", \"between\", \"both\", \"but\", \"by\", \"could\", \"did\", \"do\", \"does\", \n",
    "              \"doing\", \"down\", \"during\", \"each\", \"few\", \"for\", \"from\", \"further\", \"had\", \"has\", \"have\", \"having\", \"he\", \"he'd\", \n",
    "              \"he'll\", \"he's\", \"her\", \"here\", \"here's\", \"hers\", \"herself\", \"him\", \"himself\", \"his\", \"how\", \"how's\", \"i\", \"i'd\", \n",
    "              \"i'll\", \"i'm\", \"i've\", \"if\", \"in\", \"into\", \"is\", \"it\", \"it's\", \"its\", \"itself\", \"let's\", \"me\", \"more\", \"most\", \n",
    "              \"my\", \"myself\", \"nor\", \"of\", \"on\", \"once\", \"only\", \"or\", \"other\", \"ought\", \"our\", \"ours\", \"ourselves\", \"out\", \n",
    "              \"over\", \"own\", \"same\", \"she\", \"she'd\", \"she'll\", \"she's\", \"should\", \"so\", \"some\", \"such\", \"than\", \"that\", \"that's\",\n",
    "              \"the\", \"their\", \"theirs\", \"them\", \"themselves\", \"then\", \"there\", \"there's\", \"these\", \"they\", \"they'd\", \"they'll\",\n",
    "              \"they're\", \"they've\", \"this\", \"those\", \"through\", \"to\", \"too\", \"under\", \"until\", \"up\", \"very\", \"was\", \"we\", \"we'd\", \n",
    "              \"we'll\", \"we're\", \"we've\", \"were\", \"what\", \"what's\", \"when\", \"when's\", \"where\", \"where's\", \"which\", \"while\", \"who\",\n",
    "              \"who's\", \"whom\", \"why\", \"why's\", \"with\", \"would\", \"you\", \"you'd\", \"you'll\", \"you're\", \"you've\", \"your\", \"yours\", \n",
    "              \"yourself\", \"yourselves\" ]"
   ]
  },
  {
   "cell_type": "code",
   "execution_count": 40,
   "metadata": {},
   "outputs": [
    {
     "name": "stdout",
     "output_type": "stream",
     "text": [
      "2225\n",
      "tv future hands viewers home theatre systems plasma high-definition tvs digital video recorders moving living room way people watch tv will radically different five years time. according expert panel gathered annual consumer electronics show las vegas discuss new technologies will impact one favourite pastimes. us leading trend programmes content will delivered viewers via home networks cable satellite telecoms companies broadband service providers front rooms portable devices. one talked-about technologies ces digital personal video recorders (dvr pvr). set-top boxes like us s tivo uk s sky+ system allow people record store play pause forward wind tv programmes want. essentially technology allows much personalised tv. also built-in high-definition tv sets big business japan us slower take off europe lack high-definition programming. not can people forward wind adverts can also forget abiding network channel schedules putting together a-la-carte entertainment. us networks cable satellite companies worried means terms advertising revenues well brand identity viewer loyalty channels. although us leads technology moment also concern raised europe particularly growing uptake services like sky+. happens today will see nine months years time uk adam hume bbc broadcast s futurologist told bbc news website. likes bbc no issues lost advertising revenue yet. pressing issue moment commercial uk broadcasters brand loyalty important everyone. will talking content brands rather network brands said tim hanlon brand communications firm starcom mediavest. reality broadband connections anybody can producer content. added: challenge now hard promote programme much choice. means said stacey jolna senior vice president tv guide tv group way people find content want watch simplified tv viewers. means networks us terms channels take leaf google s book search engine future instead scheduler help people find want watch. kind channel model might work younger ipod generation used taking control gadgets play them. might not suit everyone panel recognised. older generations comfortable familiar schedules channel brands know getting. perhaps not want much choice put hands mr hanlon suggested. end kids just diapers pushing buttons already - everything possible available said mr hanlon. ultimately consumer will tell market want. 50 000 new gadgets technologies showcased ces many enhancing tv-watching experience. high-definition tv sets everywhere many new models lcd (liquid crystal display) tvs launched dvr capability built instead external boxes. one example launched show humax s 26-inch lcd tv 80-hour tivo dvr dvd recorder. one us s biggest satellite tv companies directtv even launched branded dvr show 100-hours recording capability instant replay search function. set can pause rewind tv 90 hours. microsoft chief bill gates announced pre-show keynote speech partnership tivo called tivotogo means people can play recorded programmes windows pcs mobile devices. reflect increasing trend freeing multimedia people can watch want want.\n"
     ]
    }
   ],
   "source": [
    "labels = []\n",
    "sentences = []\n",
    "with open(\"bbc-text.csv\" , 'r') as csvfile:\n",
    "    reader = csv.reader(csvfile , delimiter = ',')\n",
    "    \n",
    "    next(reader)\n",
    "    \n",
    "    for row in reader:\n",
    "        labels.append(row[0])\n",
    "        sentence = row[1]\n",
    "        \n",
    "        for word in stopwords:\n",
    "            token = \" \" + word + \" \"\n",
    "            sentence = sentence.replace(token , \" \")\n",
    "            sentence = sentence.replace(\"  \" , \" \")\n",
    "                      \n",
    "        sentences.append(sentence)\n",
    "    \n",
    "print(len(sentences))\n",
    "print(sentences[0])"
   ]
  },
  {
   "cell_type": "code",
   "execution_count": 41,
   "metadata": {},
   "outputs": [
    {
     "name": "stdout",
     "output_type": "stream",
     "text": [
      "2225\n",
      "2225\n"
     ]
    }
   ],
   "source": [
    "print(len(sentences))\n",
    "print(len(labels))"
   ]
  },
  {
   "cell_type": "code",
   "execution_count": 42,
   "metadata": {},
   "outputs": [
    {
     "name": "stdout",
     "output_type": "stream",
     "text": [
      "1780\n",
      "1780\n",
      "445\n",
      "445\n"
     ]
    }
   ],
   "source": [
    "### splitting data into training and test datasets\n",
    "\n",
    "training_size = int(len(sentences)*0.8)\n",
    "\n",
    "training_sentences = sentences[:training_size]\n",
    "training_label = labels[:training_size]\n",
    "\n",
    "test_sentences = sentences[training_size:]\n",
    "test_label = labels[training_size:]\n",
    "\n",
    "print(len(training_sentences))\n",
    "print(len(training_label))\n",
    "print(len(test_sentences))\n",
    "print(len(test_label))"
   ]
  },
  {
   "cell_type": "code",
   "execution_count": 43,
   "metadata": {},
   "outputs": [],
   "source": [
    "vocab_size = 1000\n",
    "oov_token = \"OOV\"\n",
    "truncate_type = \"post\"\n",
    "padding_type = \"post\"\n",
    "embedding_dim = 16\n",
    "max_len = 120"
   ]
  },
  {
   "cell_type": "code",
   "execution_count": 45,
   "metadata": {},
   "outputs": [
    {
     "name": "stdout",
     "output_type": "stream",
     "text": [
      "(1780, 120)\n",
      "1780\n"
     ]
    }
   ],
   "source": [
    "tokenizer = Tokenizer(vocab_size ,  oov_token = \"OOV\")\n",
    "tokenizer.fit_on_texts(training_sentences)\n",
    "\n",
    "training_sequences = tokenizer.texts_to_sequences(training_sentences)\n",
    "training_sequences = pad_sequences(training_sequence ,maxlen = max_len, padding = padding_type , truncating = truncate_type)\n",
    "\n",
    "print(training_sequence.shape)\n",
    "print(len(training_label))"
   ]
  },
  {
   "cell_type": "code",
   "execution_count": 46,
   "metadata": {},
   "outputs": [
    {
     "name": "stdout",
     "output_type": "stream",
     "text": [
      "(445, 120)\n",
      "445\n"
     ]
    }
   ],
   "source": [
    "test_sequences = tokenizer.texts_to_sequences(test_sentences)\n",
    "test_sequences = pad_sequences(test_sequences , maxlen = max_len , truncating = truncate_type , padding = padding_type)\n",
    "\n",
    "print(test_sequences.shape)\n",
    "print(len(test_label))"
   ]
  },
  {
   "cell_type": "code",
   "execution_count": 50,
   "metadata": {},
   "outputs": [],
   "source": [
    "## tokenising labels"
   ]
  },
  {
   "cell_type": "code",
   "execution_count": 78,
   "metadata": {},
   "outputs": [
    {
     "name": "stdout",
     "output_type": "stream",
     "text": [
      "{'sport': 1, 'business': 2, 'politics': 3, 'entertainment': 4, 'tech': 5}\n"
     ]
    }
   ],
   "source": [
    "tokenizer = Tokenizer()\n",
    "tokenizer.fit_on_texts(training_label)\n",
    "\n",
    "training_label_sequences = tokenizer.texts_to_sequences(training_label)\n",
    "test_label_sequences = tokenizer.texts_to_sequences(test_label)\n",
    "\n",
    "labels_word_indexes = tokenizer.word_index\n",
    "print(labels_word_indexes)"
   ]
  },
  {
   "cell_type": "code",
   "execution_count": 79,
   "metadata": {},
   "outputs": [],
   "source": [
    "### now defining a model \n",
    "\n",
    "model = tf.keras.Sequential( [ tf.keras.layers.Embedding( vocab_size , embedding_dim , input_length = max_len) , \n",
    "                             tf.keras.layers.GlobalAveragePooling1D() , \n",
    "                             tf.keras.layers.Dense(24 , activation = \"relu\") , \n",
    "                             tf.keras.layers.Dense(6 , activation = \"softmax\")] )\n",
    "\n",
    "model.compile(loss = \"sparse_categorical_crossentropy\" , metrics = [\"accuracy\"] , optimizer = \"adam\")"
   ]
  },
  {
   "cell_type": "code",
   "execution_count": 80,
   "metadata": {},
   "outputs": [],
   "source": [
    "epoch = 30"
   ]
  },
  {
   "cell_type": "code",
   "execution_count": 81,
   "metadata": {},
   "outputs": [],
   "source": [
    "final_training_sequences = np.array(training_sequences)\n",
    "final_test_sequences = np.array(test_sequences)\n",
    "\n",
    "final_training_labels = np.array(training_label_sequences)\n",
    "final_test_labels = np.array(test_label_sequences)"
   ]
  },
  {
   "cell_type": "code",
   "execution_count": 82,
   "metadata": {},
   "outputs": [
    {
     "name": "stdout",
     "output_type": "stream",
     "text": [
      "120\n",
      "120\n",
      "[5]\n",
      "[4]\n"
     ]
    }
   ],
   "source": [
    "print(len(final_training_sequences[0]))\n",
    "print(len(final_test_sequences[0]))\n",
    "print(final_training_labels[0])\n",
    "print(final_test_labels[0])"
   ]
  },
  {
   "cell_type": "code",
   "execution_count": 83,
   "metadata": {},
   "outputs": [
    {
     "name": "stdout",
     "output_type": "stream",
     "text": [
      "Model: \"sequential_4\"\n",
      "_________________________________________________________________\n",
      "Layer (type)                 Output Shape              Param #   \n",
      "=================================================================\n",
      "embedding_4 (Embedding)      (None, 120, 16)           16000     \n",
      "_________________________________________________________________\n",
      "global_average_pooling1d_4 ( (None, 16)                0         \n",
      "_________________________________________________________________\n",
      "dense_8 (Dense)              (None, 24)                408       \n",
      "_________________________________________________________________\n",
      "dense_9 (Dense)              (None, 6)                 150       \n",
      "=================================================================\n",
      "Total params: 16,558\n",
      "Trainable params: 16,558\n",
      "Non-trainable params: 0\n",
      "_________________________________________________________________\n"
     ]
    }
   ],
   "source": [
    "model.summary()"
   ]
  },
  {
   "cell_type": "code",
   "execution_count": 84,
   "metadata": {},
   "outputs": [
    {
     "name": "stdout",
     "output_type": "stream",
     "text": [
      "Epoch 1/30\n",
      "56/56 [==============================] - 3s 20ms/step - loss: 1.7800 - accuracy: 0.2409 - val_loss: 1.7347 - val_accuracy: 0.3438\n",
      "Epoch 2/30\n",
      "56/56 [==============================] - 0s 8ms/step - loss: 1.7093 - accuracy: 0.3688 - val_loss: 1.6169 - val_accuracy: 0.4697\n",
      "Epoch 3/30\n",
      "56/56 [==============================] - ETA: 0s - loss: 1.5803 - accuracy: 0.49 - 0s 8ms/step - loss: 1.5714 - accuracy: 0.4951 - val_loss: 1.4344 - val_accuracy: 0.5618\n",
      "Epoch 4/30\n",
      "56/56 [==============================] - 0s 8ms/step - loss: 1.3614 - accuracy: 0.6112 - val_loss: 1.1976 - val_accuracy: 0.6742\n",
      "Epoch 5/30\n",
      "56/56 [==============================] - 0s 8ms/step - loss: 1.0959 - accuracy: 0.7827 - val_loss: 0.9661 - val_accuracy: 0.8000\n",
      "Epoch 6/30\n",
      "56/56 [==============================] - 0s 8ms/step - loss: 0.8557 - accuracy: 0.8625 - val_loss: 0.7862 - val_accuracy: 0.8472\n",
      "Epoch 7/30\n",
      "56/56 [==============================] - 0s 8ms/step - loss: 0.6880 - accuracy: 0.8766 - val_loss: 0.6566 - val_accuracy: 0.8787\n",
      "Epoch 8/30\n",
      "56/56 [==============================] - 0s 8ms/step - loss: 0.5522 - accuracy: 0.9225 - val_loss: 0.5505 - val_accuracy: 0.9258\n",
      "Epoch 9/30\n",
      "56/56 [==============================] - 0s 8ms/step - loss: 0.4454 - accuracy: 0.9504 - val_loss: 0.4748 - val_accuracy: 0.9258\n",
      "Epoch 10/30\n",
      "56/56 [==============================] - 0s 8ms/step - loss: 0.3668 - accuracy: 0.9567 - val_loss: 0.4104 - val_accuracy: 0.9326\n",
      "Epoch 11/30\n",
      "56/56 [==============================] - ETA: 0s - loss: 0.2982 - accuracy: 0.97 - 0s 8ms/step - loss: 0.2961 - accuracy: 0.9714 - val_loss: 0.3613 - val_accuracy: 0.9416\n",
      "Epoch 12/30\n",
      "56/56 [==============================] - 1s 12ms/step - loss: 0.2519 - accuracy: 0.9701 - val_loss: 0.3221 - val_accuracy: 0.9438\n",
      "Epoch 13/30\n",
      "56/56 [==============================] - 1s 11ms/step - loss: 0.1908 - accuracy: 0.9790 - val_loss: 0.2963 - val_accuracy: 0.9416\n",
      "Epoch 14/30\n",
      "56/56 [==============================] - 1s 14ms/step - loss: 0.1732 - accuracy: 0.9842 - val_loss: 0.2685 - val_accuracy: 0.9483\n",
      "Epoch 15/30\n",
      "56/56 [==============================] - 1s 14ms/step - loss: 0.1494 - accuracy: 0.9867 - val_loss: 0.2482 - val_accuracy: 0.9416\n",
      "Epoch 16/30\n",
      "56/56 [==============================] - 0s 9ms/step - loss: 0.1233 - accuracy: 0.9884 - val_loss: 0.2310 - val_accuracy: 0.9551\n",
      "Epoch 17/30\n",
      "56/56 [==============================] - 0s 8ms/step - loss: 0.1109 - accuracy: 0.9876 - val_loss: 0.2254 - val_accuracy: 0.9461\n",
      "Epoch 18/30\n",
      "56/56 [==============================] - 1s 9ms/step - loss: 0.0913 - accuracy: 0.9912 - val_loss: 0.2145 - val_accuracy: 0.9573\n",
      "Epoch 19/30\n",
      "56/56 [==============================] - 0s 8ms/step - loss: 0.0817 - accuracy: 0.9915 - val_loss: 0.2125 - val_accuracy: 0.9461\n",
      "Epoch 20/30\n",
      "56/56 [==============================] - 0s 8ms/step - loss: 0.0704 - accuracy: 0.9973 - val_loss: 0.2063 - val_accuracy: 0.9483\n",
      "Epoch 21/30\n",
      "56/56 [==============================] - 0s 8ms/step - loss: 0.0609 - accuracy: 0.9958 - val_loss: 0.2007 - val_accuracy: 0.9483\n",
      "Epoch 22/30\n",
      "56/56 [==============================] - 1s 9ms/step - loss: 0.0605 - accuracy: 0.9991 - val_loss: 0.1963 - val_accuracy: 0.9461\n",
      "Epoch 23/30\n",
      "56/56 [==============================] - 1s 10ms/step - loss: 0.0514 - accuracy: 0.9998 - val_loss: 0.1942 - val_accuracy: 0.9461\n",
      "Epoch 24/30\n",
      "56/56 [==============================] - 1s 10ms/step - loss: 0.0464 - accuracy: 0.9988 - val_loss: 0.1956 - val_accuracy: 0.9461\n",
      "Epoch 25/30\n",
      "56/56 [==============================] - 1s 17ms/step - loss: 0.0389 - accuracy: 0.9994 - val_loss: 0.1916 - val_accuracy: 0.9461\n",
      "Epoch 26/30\n",
      "56/56 [==============================] - 1s 16ms/step - loss: 0.0360 - accuracy: 0.9994 - val_loss: 0.1895 - val_accuracy: 0.9461\n",
      "Epoch 27/30\n",
      "56/56 [==============================] - 1s 18ms/step - loss: 0.0311 - accuracy: 0.9993 - val_loss: 0.1890 - val_accuracy: 0.9438\n",
      "Epoch 28/30\n",
      "56/56 [==============================] - 1s 19ms/step - loss: 0.0300 - accuracy: 1.0000 - val_loss: 0.1904 - val_accuracy: 0.9461\n",
      "Epoch 29/30\n",
      "56/56 [==============================] - 1s 14ms/step - loss: 0.0262 - accuracy: 1.0000 - val_loss: 0.1901 - val_accuracy: 0.9461\n",
      "Epoch 30/30\n",
      "56/56 [==============================] - 1s 17ms/step - loss: 0.0252 - accuracy: 1.0000 - val_loss: 0.1897 - val_accuracy: 0.9438\n"
     ]
    }
   ],
   "source": [
    "history = model.fit(final_training_sequences ,final_training_labels , validation_data = (final_test_sequences , final_test_labels ), epochs = epoch)"
   ]
  },
  {
   "cell_type": "code",
   "execution_count": 89,
   "metadata": {},
   "outputs": [
    {
     "data": {
      "image/png": "[encoded data removed]",
      "text/plain": [
       "<Figure size 432x288 with 1 Axes>"
      ]
     },
     "metadata": {
      "needs_background": "light"
     },
     "output_type": "display_data"
    },
    {
     "data": {
      "image/png": "[encoded data removed]",
      "text/plain": [
       "<Figure size 432x288 with 1 Axes>"
      ]
     },
     "metadata": {
      "needs_background": "light"
     },
     "output_type": "display_data"
    }
   ],
   "source": [
    "def plot_graph(history , str):\n",
    "    plt.plot(history.history[str])\n",
    "    plt.plot(history.history[\"val_\"+str])\n",
    "    plt.xlabel(\"Epochs\")\n",
    "    plt.ylabel(str)\n",
    "    plt.legend([str  , \"val_\"+str])\n",
    "    plt.show()\n",
    "    \n",
    "    \n",
    "plot_graph(history , \"accuracy\")\n",
    "plot_graph(history , \"loss\")"
   ]
  },
  {
   "cell_type": "code",
   "execution_count": 90,
   "metadata": {},
   "outputs": [],
   "source": [
    "### we have created a model with 94% accuracy"
   ]
  },
  {
   "cell_type": "code",
   "execution_count": null,
   "metadata": {},
   "outputs": [],
   "source": []
  }
 ],
 "metadata": {
  "kernelspec": {
   "display_name": "Python 3",
   "language": "python",
   "name": "python3"
  },
  "language_info": {
   "codemirror_mode": {
    "name": "ipython",
    "version": 3
   },
   "file_extension": ".py",
   "mimetype": "text/x-python",
   "name": "python",
   "nbconvert_exporter": "python",
   "pygments_lexer": "ipython3",
   "version": "3.8.5"
  }
 },
 "nbformat": 4,
 "nbformat_minor": 4
}
